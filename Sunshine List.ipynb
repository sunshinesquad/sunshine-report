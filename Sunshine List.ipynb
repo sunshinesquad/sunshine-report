{
 "cells": [
  {
   "cell_type": "markdown",
   "id": "42a13411-7b78-4388-8448-47483d9dc10d",
   "metadata": {},
   "source": [
    "# Ontario's Sunshine List (1996-2020)\n",
    "\n",
    "Project Group 2:\n",
    "\n",
    "- William Conley - 100782574\n",
    "- Reese Dominguez - 100775764\n",
    "- Alex Sawatzky - 100790274\n",
    "- Joshua Trower - 100791683"
   ]
  },
  {
   "cell_type": "markdown",
   "id": "ea6a7e4d-e4b9-4302-bec9-be25cbedcdef",
   "metadata": {},
   "source": [
    "## Introduction\n",
    "\n",
    "### The Ontario Public Sector Safety Disclosure/Sunshine List\n",
    "\n",
    "The [Ontario Public Sector Safety Disclosure](https://www.ontario.ca/page/public-sector-salary-disclosure#section-1), henceforth referred to as the **Sunshine List** for this notebook, started its collection in 1996 as a result of the **Public Sector Salary Disclosure Act** passed by the Government of Ontario. This act requires public service organizations to submit staff and salary information for all staff that earn more than \\$100,000 during a calendar year by March of the year after, so as to make this data available to the public and to make public service organizations accountable for the use of the province's funding.\n",
    "\n",
    "Although this is a positive step when it comes to transparency in the government level, the data does not show basic demographics such as gender and race, especially after the passing of the [Anti-Racism Act in 2017](https://news.ontario.ca/en/release/44976/ontario-passes-anti-racism-legislation). We want to explore any discrepancies in equity in gender and race regarding the public sector's highest paid employees.\n",
    "\n",
    "We start by answering these basic questions, and then answering any other questions that appear as a result:\n",
    "\n",
    "1. Which sector has the most people/largest budget?\n",
    "2. What proportion of Sunshine Listers are women?\n",
    "3. What proportion of Sunshine Listers are racialized?\n",
    "4. How much of a change has there been since 1996?\n",
    "5. Are any sectors improving in their racial/gender representation?"
   ]
  },
  {
   "cell_type": "markdown",
   "id": "cec42de4-cd3e-47a1-97e0-27935207a4d5",
   "metadata": {},
   "source": [
    "## Description of Data\n",
    "\n",
    "As the Sunshine List has already been described in the introduction, we take this opportunity to introduce our auxiliary/helper datasets. Note that this has been taken almost straight from our proposal:\n",
    "\n",
    "#### World Gender Name Dictionary\n",
    "Link: https://dataverse.harvard.edu/dataset.xhtml?persistentId=doi:10.7910/DVN/MSEGSJ \n",
    "\n",
    "Citation: Raffo, Julio, 2021, \"WGND 2.0\", https://doi.org/10.7910/DVN/MSEGSJ, Harvard Dataverse, V1, UNF:6:5rI3h1mXzd6zkVhHurelLw== [fileUNF]\n",
    "\n",
    "This data set is available on Harvard’s dataverse which is an archive of data that has been used in research and is made available for use by other researchers.  The data was compiled by Martinez, Lax, Raffo and Saito in 2016 as part of their research paper “Identifying the Gender of PCT Inventors.”  The author has compiled more than 26 million records and linked the given names from over 195 different countries and territories. Similar to the work of Raffo, this dataset will be used to explore the representation of women on the Sunshine List.  It is important to note that using a database of names to assign genders is an imprecise approach and in many cases may misattribute gender given how many names there are that are used by both genders (like Chris or Sam). However, since the sunshine list does not include gender in the datasets, it is hoped that this imprecise approach may still offer some value in the consideration of gender representation on the Sunshine list. This data has been made available as CCO – “Public Domain Dedication”.\n",
    "\n",
    "#### Most Common Names Database\n",
    "Link: https://raw.githubusercontent.com/fivethirtyeight/data/master/most-common-name/surnames.csv \n",
    "\n",
    "This data set is available on [FiveThirtyEight's GitHub](https://fivethirtyeight.com/). FiveThirtyEight is a website devoted to using statistics to understand political, social and sporting trends.  The data is maintained by Andrew Flowers as part of the article “Dear Mona, What’s The Most Common Name in America?” article.  This data is a compilation of surnames from the US Census Bureau which includes the percentage of the population that identifies as White, Black, Asian, Hispanic and Multiple Races. It is important to note that determining racial identity solely by surname is an imprecise approach, given that each surname often has representation across all racial identities.  However, since the sunshine list does not include employee racial identity, it is hoped that this imprecise approach may still offer some value in consideration of the representative diversity on the Sunshine List.  This data has been made available under a Creative Commons Attribution 4.0 International License.\n",
    "\n",
    "#### Ontario Demographics\n",
    "Link: https://www12.statcan.gc.ca/census-recensement/2016/dp-pd/prof/details/Page.cfm?Lang=E&Geo1=PR&Code1=35&Geo2=&Code2=&Data=Count&SearchText=Ontario&Sear\n",
    "\n",
    "This dataset is maintained by Statistics Canada and provides provincial and national statistics on population demographics.  This will serve as a baseline to compare proportions and see if a group is over or under represented."
   ]
  },
  {
   "cell_type": "markdown",
   "id": "033194ed-aeb0-4277-9863-0961233fe990",
   "metadata": {},
   "source": [
    "## Analysis of Data"
   ]
  },
  {
   "cell_type": "markdown",
   "id": "b314bf8f-9d67-4b4d-b0b3-49cb1c1998a0",
   "metadata": {},
   "source": [
    "## Exploratory Data Analysis"
   ]
  },
  {
   "cell_type": "markdown",
   "id": "2fe8b97a-a20a-44de-9fe5-53fe6c8d73db",
   "metadata": {},
   "source": [
    "## Potential Data Science"
   ]
  },
  {
   "cell_type": "markdown",
   "id": "704082f8-6a25-471a-8878-c054dfbe380c",
   "metadata": {},
   "source": [
    "## Conclusion"
   ]
  }
 ],
 "metadata": {
  "kernelspec": {
   "display_name": "Python 3 (ipykernel)",
   "language": "python",
   "name": "python3"
  },
  "language_info": {
   "codemirror_mode": {
    "name": "ipython",
    "version": 3
   },
   "file_extension": ".py",
   "mimetype": "text/x-python",
   "name": "python",
   "nbconvert_exporter": "python",
   "pygments_lexer": "ipython3",
   "version": "3.9.7"
  }
 },
 "nbformat": 4,
 "nbformat_minor": 5
}
