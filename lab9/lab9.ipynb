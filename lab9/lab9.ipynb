{
 "cells": [
  {
   "cell_type": "code",
   "execution_count": 10,
   "metadata": {},
   "outputs": [],
   "source": [
    "#importing used libraries\n",
    "import csv\n",
    "import re\n",
    "from functools import reduce\n",
    "import numpy as np\n",
    "import pandas as pd\n",
    "import matplotlib.pyplot as plt\n",
    "\n",
    "# this aux function reads the CSV file and returns the data in a Python dictionary\n",
    "def get_data_csv(link):\n",
    "    collection = []\n",
    "    with open(link, 'r', encoding=\"mbcs\") as f:\n",
    "        for line in csv.DictReader(f):\n",
    "            collection.append(line)\n",
    "        return collection\n",
    "\n",
    "# construct a dict containing all sunshine data\n",
    "sunDict = {}\n",
    "years = []\n",
    "toAppend = \"\"\n",
    "for i in range (1996, 2021):\n",
    "    years.append(i)\n",
    "    toAppend = \"sunshine\" + str(i) + \".csv\"\n",
    "    sunDict[toAppend] = (pd.DataFrame(get_data_csv(toAppend))).rename(columns ={\"Salary paid\" : \"Salary Paid\"}).rename(columns ={\"Salary Paid \" : \"Salary Paid\"})\n",
    "    #if you're wondering why this line is so long, it's because the sunshine lists changed their key formats randomly.\n",
    "\n",
    "print(years)"
   ]
  },
  {
   "cell_type": "code",
   "execution_count": 7,
   "metadata": {},
   "outputs": [
    {
     "data": {
      "text/html": [
       "<div>\n",
       "<style scoped>\n",
       "    .dataframe tbody tr th:only-of-type {\n",
       "        vertical-align: middle;\n",
       "    }\n",
       "\n",
       "    .dataframe tbody tr th {\n",
       "        vertical-align: top;\n",
       "    }\n",
       "\n",
       "    .dataframe thead th {\n",
       "        text-align: right;\n",
       "    }\n",
       "</style>\n",
       "<table border=\"1\" class=\"dataframe\">\n",
       "  <thead>\n",
       "    <tr style=\"text-align: right;\">\n",
       "      <th></th>\n",
       "      <th>Sector</th>\n",
       "      <th>Last name</th>\n",
       "      <th>First name</th>\n",
       "      <th>Salary Paid</th>\n",
       "      <th>Taxable benefits</th>\n",
       "      <th>Employer</th>\n",
       "      <th>Job title</th>\n",
       "      <th>Calendar year</th>\n",
       "    </tr>\n",
       "  </thead>\n",
       "  <tbody>\n",
       "    <tr>\n",
       "      <th>0</th>\n",
       "      <td>Colleges</td>\n",
       "      <td>Aarts</td>\n",
       "      <td>Cheri</td>\n",
       "      <td>$113,586.57</td>\n",
       "      <td>$71.01</td>\n",
       "      <td>Fanshawe College Of Applied Arts and Technology</td>\n",
       "      <td>Professor</td>\n",
       "      <td>2020</td>\n",
       "    </tr>\n",
       "    <tr>\n",
       "      <th>1</th>\n",
       "      <td>Colleges</td>\n",
       "      <td>Aaslepp</td>\n",
       "      <td>Drew</td>\n",
       "      <td>$113,685.85</td>\n",
       "      <td>$117.26</td>\n",
       "      <td>Humber College Institute Of Technology and Adv...</td>\n",
       "      <td>Professor</td>\n",
       "      <td>2020</td>\n",
       "    </tr>\n",
       "    <tr>\n",
       "      <th>2</th>\n",
       "      <td>Colleges</td>\n",
       "      <td>Abba</td>\n",
       "      <td>Corinne</td>\n",
       "      <td>$102,214.17</td>\n",
       "      <td>$117.36</td>\n",
       "      <td>George Brown College Of Applied Arts and Techn...</td>\n",
       "      <td>Librarian</td>\n",
       "      <td>2020</td>\n",
       "    </tr>\n",
       "    <tr>\n",
       "      <th>3</th>\n",
       "      <td>Colleges</td>\n",
       "      <td>Abbott</td>\n",
       "      <td>Brian</td>\n",
       "      <td>$102,855.46</td>\n",
       "      <td>$117.36</td>\n",
       "      <td>Conestoga College Institute Of Technology and ...</td>\n",
       "      <td>Professor</td>\n",
       "      <td>2020</td>\n",
       "    </tr>\n",
       "    <tr>\n",
       "      <th>4</th>\n",
       "      <td>Colleges</td>\n",
       "      <td>Abbott</td>\n",
       "      <td>Kathleen</td>\n",
       "      <td>$160,854.89</td>\n",
       "      <td>$326.33</td>\n",
       "      <td>George Brown College Of Applied Arts and Techn...</td>\n",
       "      <td>Associate Dean, Centre for Continuous Learning</td>\n",
       "      <td>2020</td>\n",
       "    </tr>\n",
       "  </tbody>\n",
       "</table>\n",
       "</div>"
      ],
      "text/plain": [
       "     Sector Last name First name   Salary Paid Taxable benefits  \\\n",
       "0  Colleges     Aarts      Cheri  $113,586.57           $71.01    \n",
       "1  Colleges   Aaslepp       Drew  $113,685.85          $117.26    \n",
       "2  Colleges      Abba    Corinne  $102,214.17          $117.36    \n",
       "3  Colleges    Abbott      Brian  $102,855.46          $117.36    \n",
       "4  Colleges    Abbott   Kathleen  $160,854.89          $326.33    \n",
       "\n",
       "                                            Employer  \\\n",
       "0    Fanshawe College Of Applied Arts and Technology   \n",
       "1  Humber College Institute Of Technology and Adv...   \n",
       "2  George Brown College Of Applied Arts and Techn...   \n",
       "3  Conestoga College Institute Of Technology and ...   \n",
       "4  George Brown College Of Applied Arts and Techn...   \n",
       "\n",
       "                                        Job title Calendar year  \n",
       "0                                       Professor          2020  \n",
       "1                                       Professor          2020  \n",
       "2                                       Librarian          2020  \n",
       "3                                       Professor          2020  \n",
       "4  Associate Dean, Centre for Continuous Learning          2020  "
      ]
     },
     "execution_count": 7,
     "metadata": {},
     "output_type": "execute_result"
    }
   ],
   "source": [
    "sunDict['sunshine2020.csv'].head()"
   ]
  },
  {
   "cell_type": "code",
   "execution_count": 12,
   "metadata": {},
   "outputs": [],
   "source": [
    "#1. Find mean Salary of each year.\n",
    "#2. Graph means.\n",
    "\n",
    "sunMeans = [] #sunMeans is ordered 1996 to 2020\n",
    "\n",
    "for i in sunDict:\n",
    "    sunMeans.append((sunDict[i])['Salary Paid'].replace('[\\$,]', '', regex=True).astype(float).mean())\n",
    "\n"
   ]
  },
  {
   "cell_type": "code",
   "execution_count": 16,
   "metadata": {},
   "outputs": [
    {
     "data": {
      "text/plain": [
       "[<matplotlib.lines.Line2D at 0x1aa2f3aee20>]"
      ]
     },
     "execution_count": 16,
     "metadata": {},
     "output_type": "execute_result"
    },
    {
     "data": {
      "image/png": "[encoded data removed]",
      "text/plain": [
       "<Figure size 432x288 with 1 Axes>"
      ]
     },
     "metadata": {
      "needs_background": "light"
     },
     "output_type": "display_data"
    }
   ],
   "source": [
    "plt.plot(years, sunMeans, marker = 'o')"
   ]
  },
  {
   "cell_type": "code",
   "execution_count": null,
   "metadata": {},
   "outputs": [],
   "source": [
    "#Above plot is interesting.\n",
    "#Could learn more by seperating each year into quartiles and then taking the mean of each quartile over the years."
   ]
  }
 ],
 "metadata": {
  "kernelspec": {
   "display_name": "Python 3 (ipykernel)",
   "language": "python",
   "name": "python3"
  },
  "language_info": {
   "codemirror_mode": {
    "name": "ipython",
    "version": 3
   },
   "file_extension": ".py",
   "mimetype": "text/x-python",
   "name": "python",
   "nbconvert_exporter": "python",
   "pygments_lexer": "ipython3",
   "version": "3.9.7"
  }
 },
 "nbformat": 4,
 "nbformat_minor": 4
}
