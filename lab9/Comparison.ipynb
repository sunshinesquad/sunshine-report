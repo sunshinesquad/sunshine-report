{
 "cells": [
  {
   "cell_type": "markdown",
   "id": "41ea2c4d",
   "metadata": {},
   "source": [
    "# Comparison\n",
    "\n",
    "By William Conley\n",
    "\n",
    "---\n",
    "\n",
    "This file is used to compare the proportion of men to women on the sunshine list between 2020 and 1996 by using the name-gender data on both data frames"
   ]
  },
  {
   "cell_type": "code",
   "execution_count": 53,
   "id": "52d0391a",
   "metadata": {},
   "outputs": [],
   "source": [
    "#importing used libraries\n",
    "import csv\n",
    "import re\n",
    "from functools import reduce\n",
    "import numpy as np\n",
    "import pandas as pd\n",
    "\n",
    "# this aux function reads the CSV file and returns the data in a Python dictionary\n",
    "def get_data_csv(link):\n",
    "    collection = []\n",
    "    with open(link, 'r') as f:\n",
    "        for line in csv.DictReader(f):\n",
    "            collection.append(line)\n",
    "        return collection\n",
    "\n",
    "sunshine_2020 = pd.DataFrame(get_data_csv(\"sunshine2020.csv\"))\n",
    "sunshine_1996 = pd.DataFrame(get_data_csv(\"sunshine1996.csv\"))\n",
    "name_gender = pd.DataFrame(get_data_csv(\"name_gender.csv\"))\n",
    "\n",
    "# Add the gender and probability columns to each row depending on the name\n",
    "sunshine_1996 = sunshine_1996.merge(name_gender, left_on=\"First Name\", right_on=\"name\", how=\"left\")\n",
    "sunshine_1996.drop(columns=[\"name\"], inplace=True)\n",
    "sunshine_2020 = sunshine_2020.merge(name_gender, left_on=\"First name\", right_on=\"name\", how=\"left\")\n",
    "sunshine_2020.drop(columns=[\"name\"], inplace=True)\n",
    "\n",
    "# Convert the salary table entry to an int\n",
    "sunshine_1996[\"Salary Paid\"] = sunshine_1996[\"Salary Paid\"].replace('[\\$,]', '', regex=True).astype(float)\n",
    "sunshine_2020[\"Salary paid\"] = sunshine_2020[\"Salary paid\"].replace('[\\$,]', '', regex=True).astype(float)"
   ]
  },
  {
   "cell_type": "code",
   "execution_count": 42,
   "id": "9036358c",
   "metadata": {},
   "outputs": [
    {
     "name": "stdout",
     "output_type": "stream",
     "text": [
      "In 1996 there were  4501  men and women on this sunshine list\n",
      "Proportionally,  77.31 % of the list were men, and  22.692533803644917 % were women\n"
     ]
    }
   ],
   "source": [
    "n_men = sum(sunshine_1996[\"gender\"] == \"M\")\n",
    "n_women = sum(sunshine_1996[\"gender\"] == \"F\")\n",
    "p_men = n_men / (n_men + n_women) * 100\n",
    "p_women = n_women / (n_men + n_women) * 100\n",
    "print(\"In 1996 there were \", len(sunshine_1996.index), \" men and women on this sunshine list\")\n",
    "print(\"Proportionally, \", np.round(p_men, 2), \"% of the list were men, and \", np.round(p_women, 2), \"% were women\")"
   ]
  },
  {
   "cell_type": "code",
   "execution_count": 59,
   "id": "f743d81f",
   "metadata": {},
   "outputs": [
    {
     "name": "stdout",
     "output_type": "stream",
     "text": [
      "In 2020 there are  205606  men and women on this sunshine list\n",
      "Proportionally,  49.9 % of the list are men, and  50.1 % are women\n"
     ]
    }
   ],
   "source": [
    "n_men = sum(sunshine_2020[\"gender\"] == \"M\")\n",
    "n_women = sum(sunshine_2020[\"gender\"] == \"F\")\n",
    "p_men = n_men / (n_men + n_women) * 100\n",
    "p_women = n_women / (n_men + n_women) * 100\n",
    "print(\"In 2020 there are \", len(sunshine_2020.index), \" men and women on this sunshine list\")\n",
    "print(\"Proportionally, \", np.round(p_men, 2), \"% of the list are men, and \", np.round(p_women, 2), \"% are women\")"
   ]
  },
  {
   "cell_type": "markdown",
   "id": "fb71abd0",
   "metadata": {},
   "source": [
    "Looking at the difference between these two sunshine lists, we can see that in 1996 there were over 3 men to one woman on the sunshine list, while today there the ratio is essentially the same (0.9:1)"
   ]
  },
  {
   "cell_type": "code",
   "execution_count": 78,
   "id": "f09bf849",
   "metadata": {},
   "outputs": [
    {
     "name": "stdout",
     "output_type": "stream",
     "text": [
      "In 1996 there was $ 546849796.3099989  in total salaries paid on the sunshine list\n",
      "Proportionally,  77.58 % of the money was made by men, and  22.42 %  of the money was made by women\n",
      "On average, men made $ 123616.49  while on average women made $ 121702.74\n"
     ]
    }
   ],
   "source": [
    "sal_men = sum(sunshine_1996[sunshine_1996[\"gender\"] == \"M\"][\"Salary Paid\"])\n",
    "sal_women = sum(sunshine_1996[sunshine_1996[\"gender\"] == \"F\"][\"Salary Paid\"])\n",
    "n_men = sum(sunshine_1996[\"gender\"] == \"M\")\n",
    "n_women = sum(sunshine_1996[\"gender\"] == \"F\")\n",
    "p_men = sal_men / (sal_men + sal_women) * 100\n",
    "p_women = sal_women / (sal_men + sal_women) * 100\n",
    "print(\"In 1996 there was $\", sum(sunshine_1996[\"Salary Paid\"]), \" in total salaries paid on the sunshine list\")\n",
    "print(\"Proportionally, \", np.round(p_men, 2), \"% of the money was made by men, and \", np.round(p_women, 2), \"%  of the money was made by women\")\n",
    "print(\"On average, men made $\", np.round(sal_men / n_men, 2), \" while on average women made $\", np.round(sal_women / n_women, 2))"
   ]
  },
  {
   "cell_type": "code",
   "execution_count": 76,
   "id": "bb996511",
   "metadata": {},
   "outputs": [
    {
     "name": "stdout",
     "output_type": "stream",
     "text": [
      "In 2020 there was $ 25879686837.354095  in total salaries paid on the sunshine list\n",
      "Proportionally,  51.81 % of the money was made by men, and  48.19 %  of the money was made by women\n",
      "On average, men made $ 130320.7  while on average women made $ 120737.52\n"
     ]
    }
   ],
   "source": [
    "sal_men = sum(sunshine_2020[sunshine_2020[\"gender\"] == \"M\"][\"Salary paid\"])\n",
    "sal_women = sum(sunshine_2020[sunshine_2020[\"gender\"] == \"F\"][\"Salary paid\"])\n",
    "n_men = sum(sunshine_2020[\"gender\"] == \"M\")\n",
    "n_women = sum(sunshine_2020[\"gender\"] == \"F\")\n",
    "p_men = sal_men / (sal_men + sal_women) * 100\n",
    "p_women = sal_women / (sal_men + sal_women) * 100\n",
    "total_money = sum(sunshine_2020[\"Salary paid\"])\n",
    "print(\"In 2020 there was $\", total_money, \" in total salaries paid on the sunshine list\")\n",
    "print(\"Proportionally, \", np.round(p_men, 2), \"% of the money was made by men, and \", np.round(p_women, 2), \"%  of the money was made by women\")\n",
    "print(\"On average, men made $\", np.round(sal_men / n_men, 2), \" while on average women made $\", np.round(sal_women / n_women, 2))"
   ]
  },
  {
   "cell_type": "markdown",
   "id": "15d56cfe",
   "metadata": {},
   "source": [
    "Although women are being more proportionally represented on the sunshine list, that equity of representation still includes an inequity in pay of around $10,000"
   ]
  }
 ],
 "metadata": {
  "kernelspec": {
   "display_name": "Python 3 (ipykernel)",
   "language": "python",
   "name": "python3"
  },
  "language_info": {
   "codemirror_mode": {
    "name": "ipython",
    "version": 3
   },
   "file_extension": ".py",
   "mimetype": "text/x-python",
   "name": "python",
   "nbconvert_exporter": "python",
   "pygments_lexer": "ipython3",
   "version": "3.9.7"
  }
 },
 "nbformat": 4,
 "nbformat_minor": 5
}
